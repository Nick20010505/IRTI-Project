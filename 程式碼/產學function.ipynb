{
 "cells": [
  {
   "cell_type": "markdown",
   "metadata": {},
   "source": [
    "### functon 1 讀取檔案\n",
    "input ： path, is_display(bool)\n",
    "\n",
    "\n",
    "output： 物件"
   ]
  },
  {
   "cell_type": "code",
   "execution_count": 16,
   "metadata": {},
   "outputs": [],
   "source": [
    "import os\n",
    "from OCC.Display.SimpleGui import init_display\n",
    "from OCC.Extend.DataExchange import read_iges_file\n",
    "\n",
    "path = r\"C:\\NTHU\\IRTI-Project\\simple_model_2.IGS\"  #物件路徑\n",
    "\n",
    "def read_file(path, is_display=False):\n",
    "    \n",
    "    if os.path.exists(path):           # 防止路徑不存在\n",
    "        shapes = read_iges_file(path)  # 一定要用這個方法讀取\n",
    "    else:\n",
    "        print(\"檔案路徑錯誤！\")\n",
    "    \n",
    "    if is_display:\n",
    "        # 初始化 3D 顯示環境\n",
    "        display, start_display, add_menu, add_function_to_menu = init_display()\n",
    "        display.DisplayShape(shapes, update=True)\n",
    "        start_display()\n",
    "        \n",
    "    return shapes"
   ]
  },
  {
   "cell_type": "code",
   "execution_count": 17,
   "metadata": {},
   "outputs": [],
   "source": [
    "object_1 = read_file(path, is_display=1)"
   ]
  },
  {
   "cell_type": "markdown",
   "metadata": {},
   "source": [
    "### functon 2 分割物件平面\n",
    "input ： object, save_path, is_save(bool)\n",
    "\n",
    "output： 面 1 ~ 面 n"
   ]
  },
  {
   "cell_type": "code",
   "execution_count": 19,
   "metadata": {},
   "outputs": [],
   "source": [
    "import os\n",
    "from OCC.Core.TopExp import TopExp_Explorer\n",
    "from OCC.Core.TopoDS import topods\n",
    "from OCC.Core.TopAbs import TopAbs_FACE\n",
    "from OCC.Display.OCCViewer import OffscreenRenderer\n",
    "\n",
    "# 平面影像儲存路徑\n",
    "image_directory = r\"C:\\NTHU\\IRTI-Project\\Images\"\n",
    "\n",
    "def plane_segmentation(object, save_path, is_save=True):\n",
    "    \n",
    "    if not os.path.exists(save_path):        # 如果 save_path 不存在，則創建一個\n",
    "        os.makedirs(save_path)\n",
    "        \n",
    "    \n",
    "    explorer = TopExp_Explorer(object, TopAbs_FACE) # TopAbs_FACE 只對面感興趣\n",
    "    faces = []\n",
    "    index = 1\n",
    "    # 宣告一個渲彩器(不會顯示出來)\n",
    "    renderer = OffscreenRenderer()\n",
    "    renderer.Create()\n",
    "    \n",
    "    while explorer.More():\n",
    "        \n",
    "        face = topods.Face(explorer.Current())\n",
    "        faces.append(face)                     # 將當前的面儲存到 list 中\n",
    "        \n",
    "        renderer.EraseAll()\n",
    "        renderer.DisplayShape(face, update=True, color='BLUE', transparency=0.5)  # 可以調整顏色和透明度\n",
    "        renderer.FitAll()\n",
    "        \n",
    "        if is_save:\n",
    "            image_path = os.path.join(image_directory, f'object_face_{index}.png')            \n",
    "            renderer.View.Dump(image_path)\n",
    "            print(f'Saved image of face {index} to {image_path}')\n",
    "\n",
    "        index += 1\n",
    "        explorer.Next()                      # 移動到下一個面\n",
    "    \n",
    "    return faces"
   ]
  },
  {
   "cell_type": "code",
   "execution_count": 20,
   "metadata": {},
   "outputs": [
    {
     "name": "stdout",
     "output_type": "stream",
     "text": [
      "Many colors for color name BLUE, using first.\n",
      "Saved image of face 1 to C:\\NTHU\\IRTI-Project\\Images\\object_face_1.png\n",
      "Many colors for color name BLUE, using first.\n",
      "Saved image of face 2 to C:\\NTHU\\IRTI-Project\\Images\\object_face_2.png\n",
      "Many colors for color name BLUE, using first.\n",
      "Saved image of face 3 to C:\\NTHU\\IRTI-Project\\Images\\object_face_3.png\n",
      "Many colors for color name BLUE, using first.\n",
      "Saved image of face 4 to C:\\NTHU\\IRTI-Project\\Images\\object_face_4.png\n",
      "Many colors for color name BLUE, using first.\n",
      "Saved image of face 5 to C:\\NTHU\\IRTI-Project\\Images\\object_face_5.png\n",
      "object_1 總共有 5 個物件\n"
     ]
    }
   ],
   "source": [
    "object_1_faces = plane_segmentation(object_1, image_directory)\n",
    "print(\"object_1 總共有\", len(object_1_faces), \"個物件\")"
   ]
  },
  {
   "cell_type": "markdown",
   "metadata": {},
   "source": [
    "### functon 3 平面+線段 生成 drive plane\n",
    "input ： object, save_path, is_save(bool)\n",
    "\n",
    "output： 面 1 ~ 面 n"
   ]
  },
  {
   "cell_type": "code",
   "execution_count": null,
   "metadata": {},
   "outputs": [],
   "source": []
  }
 ],
 "metadata": {
  "kernelspec": {
   "display_name": "pyoccenv",
   "language": "python",
   "name": "python3"
  },
  "language_info": {
   "codemirror_mode": {
    "name": "ipython",
    "version": 3
   },
   "file_extension": ".py",
   "mimetype": "text/x-python",
   "name": "python",
   "nbconvert_exporter": "python",
   "pygments_lexer": "ipython3",
   "version": "3.8.18"
  }
 },
 "nbformat": 4,
 "nbformat_minor": 2
}
